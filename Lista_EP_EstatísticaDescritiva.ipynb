{
  "nbformat": 4,
  "nbformat_minor": 0,
  "metadata": {
    "colab": {
      "provenance": [],
      "mount_file_id": "1HHEX9klZDex91oeSwc7AEdZ-gSrIwTf8",
      "authorship_tag": "ABX9TyPY2/LwsLhyLfZQZ45Cn1Pl",
      "include_colab_link": true
    },
    "kernelspec": {
      "name": "python3",
      "display_name": "Python 3"
    },
    "language_info": {
      "name": "python"
    }
  },
  "cells": [
    {
      "cell_type": "markdown",
      "metadata": {
        "id": "view-in-github",
        "colab_type": "text"
      },
      "source": [
        "<a href=\"https://colab.research.google.com/github/voigvie/EstatisticaDescritiva/blob/main/Lista_EP_Estat%C3%ADsticaDescritiva.ipynb\" target=\"_parent\"><img src=\"https://colab.research.google.com/assets/colab-badge.svg\" alt=\"Open In Colab\"/></a>"
      ]
    },
    {
      "cell_type": "markdown",
      "source": [
        "Questão 1"
      ],
      "metadata": {
        "id": "12PeQw5Xktvd"
      }
    },
    {
      "cell_type": "code",
      "source": [
        "import csv\n",
        "\n",
        "with open('/content/drive/MyDrive/StudentsPerformance - StudentsPerformance.csv') as arquivo_csv:\n",
        "  leitor_csv = csv.DictReader(arquivo_csv)\n",
        "  total = 0 \n",
        "  female = 0 \n",
        "  male = 0 \n",
        "\n",
        "  for linha in leitor_csv:\n",
        "    if(linha['gender'] == 'female'):\n",
        "      female += 1\n",
        "    elif(linha['gender'] == 'male'):\n",
        "      male +=1\n",
        "\n",
        "    total+=1\n",
        "\n",
        "print(f' Total Observado: {total}\\n',f'Frequência Gender Female: {female}\\n',\n",
        "      f'Frequência Gender Male: {male}\\n',\n",
        "      f'Frequência Relativa Gender Female: {(female*100)/total}%\\n',\n",
        "      f'Frequência Relativa Gender Male:  {(male*100)/total}%')"
      ],
      "metadata": {
        "id": "69JWH7VjkoI2",
        "colab": {
          "base_uri": "https://localhost:8080/"
        },
        "outputId": "96959183-b198-42ae-c195-fa730ef8b435"
      },
      "execution_count": 7,
      "outputs": [
        {
          "output_type": "stream",
          "name": "stdout",
          "text": [
            " Total Observado: 1000\n",
            " Frequência Gender Female: 518\n",
            " Frequência Gender Male: 482\n",
            " Frequência Relativa Gender Female: 51.8%\n",
            " Frequência Relativa Gender Male:  48.2%\n"
          ]
        }
      ]
    },
    {
      "cell_type": "markdown",
      "source": [
        "Questão 2"
      ],
      "metadata": {
        "id": "hQOmthKdklDn"
      }
    },
    {
      "cell_type": "code",
      "execution_count": 8,
      "metadata": {
        "id": "KZlRPH0Le625"
      },
      "outputs": [],
      "source": [
        "import pandas as pd\n",
        "\n",
        "df = pd.read_csv('/content/drive/MyDrive/StudentsPerformance - StudentsPerformance.csv') \n",
        "#Carrega um arquivo CSV em um DataFrame do pandas, com o caminho do arquivo "
      ]
    },
    {
      "cell_type": "code",
      "source": [
        "# Média\n",
        "med = df['math score'].mean()\n",
        "# Moda\n",
        "moda = df['math score'].mode()[0]  # se houver várias modas, retorna a primeira\n",
        "# Mediana\n",
        "mediana = df['math score'].median()\n",
        "# Valor máximo\n",
        "val_max = df['math score'].max()\n",
        "# Valor mínimo\n",
        "val_min = df['math score'].min()\n",
        "# Amplitude\n",
        "amplitude = val_max - val_min\n",
        "# Variação\n",
        "variac = df['math score'].var().round(3)\n",
        "# Desvio padrão\n",
        "desv_padrao = df['math score'].std().round(3)\n",
        "# Quartis\n",
        "q1 = df['math score'].quantile(0.25)\n",
        "q2 = df['math score'].quantile(0.5)\n",
        "q3 = df['math score'].quantile(0.75)"
      ],
      "metadata": {
        "id": "YhUeThPmh9bo"
      },
      "execution_count": 9,
      "outputs": []
    },
    {
      "cell_type": "code",
      "source": [
        "print('Valores referentes a coluna Math Score:')\n",
        "print(\"a) Valor mínimo:\", val_min)\n",
        "print(\"b) Média:\", med)\n",
        "print(\"c) Mediana:\", mediana)\n",
        "print(\"d) Moda:\", moda)\n",
        "print(\"e) Amplitude:\", amplitude)\n",
        "print(\"f) Variância:\", variac)\n",
        "print(\"g) Desvio padrão:\", desv_padrao)\n",
        "print(\"h) Valor máximo:\", val_max)\n",
        "print(\"i) Quartil 1:\", q1)\n",
        "print(\"j) Quartil 2:\", q2)\n",
        "print(\"k) Quartil 3:\", q3)"
      ],
      "metadata": {
        "id": "NUJ10gzhiDGE",
        "colab": {
          "base_uri": "https://localhost:8080/"
        },
        "outputId": "8d667511-3ede-4e16-f8cc-7ec894b1fc49"
      },
      "execution_count": 10,
      "outputs": [
        {
          "output_type": "stream",
          "name": "stdout",
          "text": [
            "Valores referentes a coluna Math Score:\n",
            "a) Valor mínimo: 0\n",
            "b) Média: 66.089\n",
            "c) Mediana: 66.0\n",
            "d) Moda: 65\n",
            "e) Amplitude: 100\n",
            "f) Variância: 229.919\n",
            "g) Desvio padrão: 15.163\n",
            "h) Valor máximo: 100\n",
            "i) Quartil 1: 57.0\n",
            "j) Quartil 2: 66.0\n",
            "k) Quartil 3: 77.0\n"
          ]
        }
      ]
    },
    {
      "cell_type": "markdown",
      "source": [
        "Questão 3"
      ],
      "metadata": {
        "id": "8EQK4ZQDlCqI"
      }
    },
    {
      "cell_type": "code",
      "source": [
        "import pandas as pd\n",
        "\n",
        "df = pd.read_csv('/content/drive/MyDrive/StudentsPerformance - StudentsPerformance.csv') "
      ],
      "metadata": {
        "id": "2dOAF63ilEr_"
      },
      "execution_count": 11,
      "outputs": []
    },
    {
      "cell_type": "code",
      "source": [
        "# Média\n",
        "med = df['reading score'].mean()\n",
        "# Moda\n",
        "moda = df['reading score'].mode()[0]  # se houver várias modas, retorna a primeira\n",
        "# Mediana\n",
        "mediana = df['reading score'].median()\n",
        "# Valor máximo\n",
        "val_max = df['reading score'].max()\n",
        "# Valor mínimo\n",
        "val_min = df['reading score'].min()\n",
        "# Amplitude\n",
        "amplitude = val_max - val_min\n",
        "# Variação\n",
        "variac = df['reading score'].var().round(3)\n",
        "# Desvio padrão\n",
        "desv_padrao = df['reading score'].std().round(3)\n",
        "# Quartis\n",
        "q1 = df['reading score'].quantile(0.25)\n",
        "q2 = df['reading score'].quantile(0.5)\n",
        "q3 = df['reading score'].quantile(0.75)"
      ],
      "metadata": {
        "id": "YUZA4BZzpbso"
      },
      "execution_count": 12,
      "outputs": []
    },
    {
      "cell_type": "code",
      "source": [
        "print('Valores referentes a coluna Reading Score:')\n",
        "print(\"a) Valor mínimo:\", val_min)\n",
        "print(\"b) Média:\", med)\n",
        "print(\"c) Mediana:\", mediana)\n",
        "print(\"d) Moda:\", moda)\n",
        "print(\"e) Amplitude:\", amplitude)\n",
        "print(\"f) Variância:\", variac)\n",
        "print(\"g) Desvio padrão:\", desv_padrao)\n",
        "print(\"h) Valor máximo:\", val_max)\n",
        "print(\"i) Quartil 1:\", q1)\n",
        "print(\"j) Quartil 2:\", q2)\n",
        "print(\"k) Quartil 3:\", q3)"
      ],
      "metadata": {
        "id": "uSK8o7lsp3dB",
        "colab": {
          "base_uri": "https://localhost:8080/"
        },
        "outputId": "1d69a646-7b86-415a-c79a-a162562bdb83"
      },
      "execution_count": 13,
      "outputs": [
        {
          "output_type": "stream",
          "name": "stdout",
          "text": [
            "Valores referentes a coluna Reading Score:\n",
            "a) Valor mínimo: 17\n",
            "b) Média: 69.169\n",
            "c) Mediana: 70.0\n",
            "d) Moda: 72\n",
            "e) Amplitude: 83\n",
            "f) Variância: 213.166\n",
            "g) Desvio padrão: 14.6\n",
            "h) Valor máximo: 100\n",
            "i) Quartil 1: 59.0\n",
            "j) Quartil 2: 70.0\n",
            "k) Quartil 3: 79.0\n"
          ]
        }
      ]
    },
    {
      "cell_type": "markdown",
      "source": [
        "Questão 4"
      ],
      "metadata": {
        "id": "91BmwjT0qBMy"
      }
    },
    {
      "cell_type": "code",
      "source": [
        "import pandas as pd\n",
        "\n",
        "df = pd.read_csv('/content/drive/MyDrive/StudentsPerformance - StudentsPerformance.csv') "
      ],
      "metadata": {
        "id": "h89_4WehqCrU"
      },
      "execution_count": 14,
      "outputs": []
    },
    {
      "cell_type": "code",
      "source": [
        "# Média\n",
        "med = df['writing score'].mean()\n",
        "# Moda\n",
        "moda = df['writing score'].mode()[0]  # se houver várias modas, retorna a primeira\n",
        "# Mediana\n",
        "mediana = df['writing score'].median()\n",
        "# Valor máximo\n",
        "val_max = df['writing score'].max()\n",
        "# Valor mínimo\n",
        "val_min = df['writing score'].min()\n",
        "# Amplitude\n",
        "amplitude = val_max - val_min\n",
        "# Variação\n",
        "variac = df['writing score'].var().round(3)\n",
        "# Desvio padrão\n",
        "desv_padrao = df['writing score'].std().round(3)\n",
        "# Quartis\n",
        "q1 = df['writing score'].quantile(0.25)\n",
        "q2 = df['writing score'].quantile(0.5)\n",
        "q3 = df['writing score'].quantile(0.75)\n"
      ],
      "metadata": {
        "id": "v1_sbGGArMR9"
      },
      "execution_count": 15,
      "outputs": []
    },
    {
      "cell_type": "code",
      "source": [
        "print('Valores referentes a coluna Writing Score:')\n",
        "print(\"a) Valor mínimo:\", val_min)\n",
        "print(\"b) Média:\", med)\n",
        "print(\"c) Mediana:\", mediana)\n",
        "print(\"d) Moda:\", moda)\n",
        "print(\"e) Amplitude:\", amplitude)\n",
        "print(\"f) Variância:\", variac)\n",
        "print(\"g) Desvio padrão:\", desv_padrao)\n",
        "print(\"h) Valor máximo:\", val_max)\n",
        "print(\"i) Quartil 1:\", q1)\n",
        "print(\"j) Quartil 2:\", q2)\n",
        "print(\"k) Quartil 3:\", q3)"
      ],
      "metadata": {
        "id": "XQGjx4ANrQXb",
        "colab": {
          "base_uri": "https://localhost:8080/"
        },
        "outputId": "f03fa9ba-e4fc-42ec-a115-751688cd342f"
      },
      "execution_count": 16,
      "outputs": [
        {
          "output_type": "stream",
          "name": "stdout",
          "text": [
            "Valores referentes a coluna Writing Score:\n",
            "a) Valor mínimo: 10\n",
            "b) Média: 68.054\n",
            "c) Mediana: 69.0\n",
            "d) Moda: 74\n",
            "e) Amplitude: 90\n",
            "f) Variância: 230.908\n",
            "g) Desvio padrão: 15.196\n",
            "h) Valor máximo: 100\n",
            "i) Quartil 1: 57.75\n",
            "j) Quartil 2: 69.0\n",
            "k) Quartil 3: 79.0\n"
          ]
        }
      ]
    },
    {
      "cell_type": "markdown",
      "source": [
        "Questão 5\n"
      ],
      "metadata": {
        "id": "aNCNt9GGrh6u"
      }
    },
    {
      "cell_type": "code",
      "source": [
        "import pandas as pd\n",
        "\n",
        "df = pd.read_csv('/content/drive/MyDrive/StudentsPerformance - StudentsPerformance.csv') "
      ],
      "metadata": {
        "id": "tZJFx5Rjrjos"
      },
      "execution_count": 17,
      "outputs": []
    },
    {
      "cell_type": "code",
      "source": [
        "med_fem = df[df['gender'] == 'female']['math score'].mean()\n",
        "med_masc = df[df['gender'] == 'male']['math score'].mean()"
      ],
      "metadata": {
        "id": "DU4ZG5terxVq"
      },
      "execution_count": 18,
      "outputs": []
    },
    {
      "cell_type": "code",
      "source": [
        "print('O sexo que obteve o melhor desempenho nos testes de matemática foi o:')\n",
        "if med_fem > med_masc:\n",
        "    print('Feminino')\n",
        "else:\n",
        "    print('Masculino')"
      ],
      "metadata": {
        "id": "M8-0_KFstoBV",
        "colab": {
          "base_uri": "https://localhost:8080/"
        },
        "outputId": "846ea10b-924a-4a47-c982-30c29b3fdcfb"
      },
      "execution_count": 19,
      "outputs": [
        {
          "output_type": "stream",
          "name": "stdout",
          "text": [
            "O sexo que obteve o melhor desempenho nos testes de matemática foi o:\n",
            "Masculino\n"
          ]
        }
      ]
    },
    {
      "cell_type": "markdown",
      "source": [
        "Questão 6\n"
      ],
      "metadata": {
        "id": "KZbnfv56wwAn"
      }
    },
    {
      "cell_type": "code",
      "source": [
        "import pandas as pd\n",
        "\n",
        "df = pd.read_csv('/content/drive/MyDrive/StudentsPerformance - StudentsPerformance.csv') "
      ],
      "metadata": {
        "id": "zEkkyfQAwxtT"
      },
      "execution_count": 20,
      "outputs": []
    },
    {
      "cell_type": "code",
      "source": [
        "med_fem = df[df['gender'] == 'female']['reading score'].mean()\n",
        "med_masc = df[df['gender'] == 'male']['reading score'].mean()"
      ],
      "metadata": {
        "id": "gmcF524aw4bF"
      },
      "execution_count": 21,
      "outputs": []
    },
    {
      "cell_type": "code",
      "source": [
        "print('O sexo que obteve o melhor desempenho nos testes de leitura foi o:')\n",
        "if med_fem > med_masc:\n",
        "    print('Feminino')\n",
        "else:\n",
        "    print('Masculino')"
      ],
      "metadata": {
        "id": "ZL79YwyXw9P8",
        "colab": {
          "base_uri": "https://localhost:8080/"
        },
        "outputId": "beb60a8f-dd87-4182-cd31-de4188bf6c4e"
      },
      "execution_count": 22,
      "outputs": [
        {
          "output_type": "stream",
          "name": "stdout",
          "text": [
            "O sexo que obteve o melhor desempenho nos testes de leitura foi o:\n",
            "Feminino\n"
          ]
        }
      ]
    },
    {
      "cell_type": "markdown",
      "source": [
        "Questão 7"
      ],
      "metadata": {
        "id": "W3ku0RiMxWTC"
      }
    },
    {
      "cell_type": "code",
      "source": [
        "import pandas as pd\n",
        "\n",
        "df = pd.read_csv('/content/drive/MyDrive/StudentsPerformance - StudentsPerformance.csv') "
      ],
      "metadata": {
        "id": "Fg8Z3__AxZCh"
      },
      "execution_count": 23,
      "outputs": []
    },
    {
      "cell_type": "code",
      "source": [
        "med_fem = df[df['gender'] == 'female']['writing score'].mean()\n",
        "med_masc = df[df['gender'] == 'male']['writing score'].mean()"
      ],
      "metadata": {
        "id": "vW8SmB_BxbFZ"
      },
      "execution_count": 24,
      "outputs": []
    },
    {
      "cell_type": "code",
      "source": [
        "print('O sexo que obteve o melhor desempenho nos testes de escrita foi o:')\n",
        "if med_fem > med_masc:\n",
        "    print('Feminino')\n",
        "else:\n",
        "    print('Masculino')"
      ],
      "metadata": {
        "id": "igCYZSY9xpAw",
        "colab": {
          "base_uri": "https://localhost:8080/"
        },
        "outputId": "7714cfdb-d2ad-4be9-c069-de0a109eff98"
      },
      "execution_count": 25,
      "outputs": [
        {
          "output_type": "stream",
          "name": "stdout",
          "text": [
            "O sexo que obteve o melhor desempenho nos testes de escrita foi o:\n",
            "Feminino\n"
          ]
        }
      ]
    },
    {
      "cell_type": "markdown",
      "source": [
        "Questão 8"
      ],
      "metadata": {
        "id": "ggQzcGhXx560"
      }
    },
    {
      "cell_type": "code",
      "source": [
        "import pandas as pd\n",
        "\n",
        "df = pd.read_csv('/content/drive/MyDrive/StudentsPerformance - StudentsPerformance.csv') "
      ],
      "metadata": {
        "id": "lnwbRLPFz4jC"
      },
      "execution_count": 26,
      "outputs": []
    },
    {
      "cell_type": "code",
      "source": [
        "percentil_25_math = df['math score'].quantile(0.25)\n",
        "percentil_25_reading = df['reading score'].quantile(0.25)\n",
        "percentil_25_writing = df['writing score'].quantile(0.25)\n",
        "\n",
        "# verificar as afirmações\n",
        "if percentil_25_math <= 57:\n",
        "    print(\"25% dos(as) estudantes obtêm 'score' igual ou menor a 57 pontos em matemática.\")\n",
        "\n",
        "if percentil_25_reading <= 57:\n",
        "    print(\"25% dos(as) estudantes obtêm 'score' igual ou menor a 57 pontos em leitura.\")\n",
        "\n",
        "if percentil_25_writing <= 57:\n",
        "    print(\"25% dos(as) estudantes obtêm 'score' igual ou menor a 57 pontos em escrita.\")\n",
        "\n",
        "if percentil_25_math <= 59:\n",
        "    print(\"25% dos(as) estudantes obtêm 'score' igual ou menor a 59 pontos em matemática.\")\n",
        "\n",
        "if percentil_25_reading <= 59:\n",
        "    print(\"25% dos(as) estudantes obtêm 'score' igual ou menor a 59 pontos em leitura.\")\n",
        "\n",
        "if percentil_25_writing <= 59:\n",
        "    print(\"25% dos(as) estudantes obtêm 'score' igual ou menor a 59 pontos em escrita.\")\n",
        "\n",
        "if percentil_25_math <= 57.75:\n",
        "    print(\"25% dos(as) estudantes obtêm 'score' igual ou menor a 57.75 pontos em matemática.\")\n",
        "\n",
        "if percentil_25_reading <= 57.75:\n",
        "    print(\"25% dos(as) estudantes obtêm 'score' igual ou menor a 57.75 pontos em leitura.\")\n",
        "\n",
        "if percentil_25_writing <= 57.75:\n",
        "    print(\"25% dos(as) estudantes obtêm 'score' igual ou menor a 57.75 pontos em escrita.\")\n",
        "\n",
        "if df['math score'].quantile(0.75) <= 77:\n",
        "    print(\"Somente 25% dos(as) estudantes obtêm 'score' igual ou superior a 77 pontos em matemática.\")\n",
        "\n",
        "if df['writing score'].quantile(0.75) <= 77:\n",
        "    print(\"Somente 25% dos(as) estudantes obtêm 'score' igual ou superior a 77 pontos em escrita.\")\n",
        "\n",
        "if df['math score'].quantile(0.75) <= 79:\n",
        "    print(\"Somente 25% dos(as) estudantes obtêm 'score' igual ou superior a 79 pontos em matemática.\")\n",
        "\n",
        "if df['reading score'].quantile(0.75) <= 79:\n",
        "    print(\"Somente 25% dos(as) estudantes obtêm 'score' igual ou superior a 79 pontos em leitura.\")\n",
        "\n",
        "if df['writing score'].quantile(0.75) <= 79:\n",
        "    print(\"Somente 25% dos(as) estudantes obtêm 'score' igual ou superior a 79 pontos em escrita.\")\n"
      ],
      "metadata": {
        "id": "ufc5dGNr1XVn",
        "colab": {
          "base_uri": "https://localhost:8080/"
        },
        "outputId": "5c27c998-4ac1-4445-ef27-13279a191f59"
      },
      "execution_count": 27,
      "outputs": [
        {
          "output_type": "stream",
          "name": "stdout",
          "text": [
            "25% dos(as) estudantes obtêm 'score' igual ou menor a 57 pontos em matemática.\n",
            "25% dos(as) estudantes obtêm 'score' igual ou menor a 59 pontos em matemática.\n",
            "25% dos(as) estudantes obtêm 'score' igual ou menor a 59 pontos em leitura.\n",
            "25% dos(as) estudantes obtêm 'score' igual ou menor a 59 pontos em escrita.\n",
            "25% dos(as) estudantes obtêm 'score' igual ou menor a 57.75 pontos em matemática.\n",
            "25% dos(as) estudantes obtêm 'score' igual ou menor a 57.75 pontos em escrita.\n",
            "Somente 25% dos(as) estudantes obtêm 'score' igual ou superior a 77 pontos em matemática.\n",
            "Somente 25% dos(as) estudantes obtêm 'score' igual ou superior a 79 pontos em matemática.\n",
            "Somente 25% dos(as) estudantes obtêm 'score' igual ou superior a 79 pontos em leitura.\n",
            "Somente 25% dos(as) estudantes obtêm 'score' igual ou superior a 79 pontos em escrita.\n"
          ]
        }
      ]
    },
    {
      "cell_type": "markdown",
      "source": [
        "Questão 9 \n"
      ],
      "metadata": {
        "id": "amfPYJ6E2i9j"
      }
    },
    {
      "cell_type": "code",
      "source": [
        "import pandas as pd\n",
        "\n",
        "df = pd.read_csv('/content/drive/MyDrive/StudentsPerformance - StudentsPerformance.csv') "
      ],
      "metadata": {
        "id": "af4WvhmW2kRi"
      },
      "execution_count": 28,
      "outputs": []
    },
    {
      "cell_type": "code",
      "source": [
        "#calcula a média e o desvio padrão para cada disciplina e, em seguida, \n",
        "#usa esses valores para calcular os limites dos intervalos \n",
        "#usando a regra empírica.\n",
        "\n",
        "import pandas as pd\n",
        "\n",
        "# calcular a média e o desvio padrão para cada disciplina\n",
        "media_math = df['math score'].mean()\n",
        "std_math = df['math score'].std()\n",
        "\n",
        "media_reading = df['reading score'].mean()\n",
        "std_reading = df['reading score'].std()\n",
        "\n",
        "media_writing = df['writing score'].mean()\n",
        "std_writing = df['writing score'].std()\n",
        "\n",
        "# calcular os limites dos intervalos usando a regra empírica\n",
        "#cerca de 95% dos dados estão a uma distância de dois desvios padrão da média\n",
        "math_lower = round(media_math - 2*std_math, 3)\n",
        "math_upper = round(media_math + 2*std_math, 3)\n",
        "\n",
        "reading_lower = round(media_reading - 2*std_reading, 3)\n",
        "reading_upper = round(media_reading + 2*std_reading, 3)\n",
        "\n",
        "writing_lower = round(media_writing - 2*std_writing, 3)\n",
        "writing_upper = round(media_writing + 2*std_writing, 3)\n",
        "\n",
        "# imprimir os resultados\n",
        "print(\"De acordo com a regra empírica, podemos estimar que:\")\n",
        "print(\"95% dos estudantes obtêm nota no intervalo [{}, {}] em matemática\".format(math_lower, math_upper))\n",
        "print(\"95% dos estudantes obtêm nota no intervalo [{}, {}] em leitura\".format(reading_lower, reading_upper))\n",
        "print(\"95% dos estudantes obtêm nota no intervalo [{}, {}] em escrita\".format(writing_lower, writing_upper))\n"
      ],
      "metadata": {
        "colab": {
          "base_uri": "https://localhost:8080/"
        },
        "id": "H-cOgtrc3lVo",
        "outputId": "ece0605f-85ae-48b4-f017-df5bc3e945ac"
      },
      "execution_count": 29,
      "outputs": [
        {
          "output_type": "stream",
          "name": "stdout",
          "text": [
            "De acordo com a regra empírica, podemos estimar que:\n",
            "95% dos estudantes obtêm nota no intervalo [35.763, 96.415] em matemática\n",
            "95% dos estudantes obtêm nota no intervalo [39.969, 98.369] em leitura\n",
            "95% dos estudantes obtêm nota no intervalo [37.663, 98.445] em escrita\n"
          ]
        }
      ]
    }
  ]
}